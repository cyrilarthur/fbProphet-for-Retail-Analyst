{
 "cells": [
  {
   "cell_type": "code",
   "execution_count": 1,
   "id": "56f86764-1036-4583-aa6f-c33b4c614829",
   "metadata": {},
   "outputs": [],
   "source": [
    "# IMPORT DEPENDENCIES"
   ]
  },
  {
   "cell_type": "code",
   "execution_count": 2,
   "id": "9aee0e1f-7575-4dd6-9213-18597da9eba8",
   "metadata": {},
   "outputs": [
    {
     "name": "stderr",
     "output_type": "stream",
     "text": [
      "Importing plotly failed. Interactive plots will not work.\n"
     ]
    }
   ],
   "source": [
    "# Python\n",
    "import pandas as pd\n",
    "from prophet import Prophet\n"
   ]
  },
  {
   "cell_type": "code",
   "execution_count": 3,
   "id": "41af0fe1-0f6a-4bb7-b9c9-bd5aba19e921",
   "metadata": {},
   "outputs": [
    {
     "name": "stdout",
     "output_type": "stream",
     "text": [
      "Requirement already satisfied: jupyter in c:\\users\\plange-kaye\\appdata\\local\\programs\\python\\python311\\lib\\site-packages (1.0.0)\n",
      "Requirement already satisfied: notebook in c:\\users\\plange-kaye\\appdata\\local\\programs\\python\\python311\\lib\\site-packages (from jupyter) (7.0.3)\n",
      "Requirement already satisfied: qtconsole in c:\\users\\plange-kaye\\appdata\\local\\programs\\python\\python311\\lib\\site-packages (from jupyter) (5.5.1)\n",
      "Requirement already satisfied: jupyter-console in c:\\users\\plange-kaye\\appdata\\local\\programs\\python\\python311\\lib\\site-packages (from jupyter) (6.6.3)\n",
      "Requirement already satisfied: nbconvert in c:\\users\\plange-kaye\\appdata\\local\\programs\\python\\python311\\lib\\site-packages (from jupyter) (7.5.0)\n",
      "Requirement already satisfied: ipykernel in c:\\users\\plange-kaye\\appdata\\local\\programs\\python\\python311\\lib\\site-packages (from jupyter) (6.23.2)\n",
      "Requirement already satisfied: ipywidgets in c:\\users\\plange-kaye\\appdata\\local\\programs\\python\\python311\\lib\\site-packages (from jupyter) (8.1.1)\n",
      "Requirement already satisfied: comm>=0.1.1 in c:\\users\\plange-kaye\\appdata\\local\\programs\\python\\python311\\lib\\site-packages (from ipykernel->jupyter) (0.1.3)\n",
      "Requirement already satisfied: debugpy>=1.6.5 in c:\\users\\plange-kaye\\appdata\\local\\programs\\python\\python311\\lib\\site-packages (from ipykernel->jupyter) (1.6.7)\n",
      "Requirement already satisfied: ipython>=7.23.1 in c:\\users\\plange-kaye\\appdata\\local\\programs\\python\\python311\\lib\\site-packages (from ipykernel->jupyter) (8.14.0)\n",
      "Requirement already satisfied: jupyter-client>=6.1.12 in c:\\users\\plange-kaye\\appdata\\local\\programs\\python\\python311\\lib\\site-packages (from ipykernel->jupyter) (8.2.0)\n",
      "Requirement already satisfied: jupyter-core!=5.0.*,>=4.12 in c:\\users\\plange-kaye\\appdata\\local\\programs\\python\\python311\\lib\\site-packages (from ipykernel->jupyter) (5.3.1)\n",
      "Requirement already satisfied: matplotlib-inline>=0.1 in c:\\users\\plange-kaye\\appdata\\local\\programs\\python\\python311\\lib\\site-packages (from ipykernel->jupyter) (0.1.6)\n",
      "Requirement already satisfied: nest-asyncio in c:\\users\\plange-kaye\\appdata\\local\\programs\\python\\python311\\lib\\site-packages (from ipykernel->jupyter) (1.5.6)\n",
      "Requirement already satisfied: packaging in c:\\users\\plange-kaye\\appdata\\local\\programs\\python\\python311\\lib\\site-packages (from ipykernel->jupyter) (23.1)\n",
      "Requirement already satisfied: psutil in c:\\users\\plange-kaye\\appdata\\local\\programs\\python\\python311\\lib\\site-packages (from ipykernel->jupyter) (5.9.5)\n",
      "Requirement already satisfied: pyzmq>=20 in c:\\users\\plange-kaye\\appdata\\local\\programs\\python\\python311\\lib\\site-packages (from ipykernel->jupyter) (25.1.0)\n",
      "Requirement already satisfied: tornado>=6.1 in c:\\users\\plange-kaye\\appdata\\local\\programs\\python\\python311\\lib\\site-packages (from ipykernel->jupyter) (6.3.2)\n",
      "Requirement already satisfied: traitlets>=5.4.0 in c:\\users\\plange-kaye\\appdata\\local\\programs\\python\\python311\\lib\\site-packages (from ipykernel->jupyter) (5.9.0)\n",
      "Requirement already satisfied: widgetsnbextension~=4.0.9 in c:\\users\\plange-kaye\\appdata\\local\\programs\\python\\python311\\lib\\site-packages (from ipywidgets->jupyter) (4.0.9)\n",
      "Requirement already satisfied: jupyterlab-widgets~=3.0.9 in c:\\users\\plange-kaye\\appdata\\local\\programs\\python\\python311\\lib\\site-packages (from ipywidgets->jupyter) (3.0.9)\n",
      "Requirement already satisfied: prompt-toolkit>=3.0.30 in c:\\users\\plange-kaye\\appdata\\local\\programs\\python\\python311\\lib\\site-packages (from jupyter-console->jupyter) (3.0.38)\n",
      "Requirement already satisfied: pygments in c:\\users\\plange-kaye\\appdata\\local\\programs\\python\\python311\\lib\\site-packages (from jupyter-console->jupyter) (2.15.1)\n",
      "Requirement already satisfied: beautifulsoup4 in c:\\users\\plange-kaye\\appdata\\local\\programs\\python\\python311\\lib\\site-packages (from nbconvert->jupyter) (4.12.2)\n",
      "Requirement already satisfied: bleach!=5.0.0 in c:\\users\\plange-kaye\\appdata\\local\\programs\\python\\python311\\lib\\site-packages (from nbconvert->jupyter) (6.0.0)\n",
      "Requirement already satisfied: defusedxml in c:\\users\\plange-kaye\\appdata\\local\\programs\\python\\python311\\lib\\site-packages (from nbconvert->jupyter) (0.7.1)\n",
      "Requirement already satisfied: jinja2>=3.0 in c:\\users\\plange-kaye\\appdata\\local\\programs\\python\\python311\\lib\\site-packages (from nbconvert->jupyter) (3.1.2)\n",
      "Requirement already satisfied: jupyterlab-pygments in c:\\users\\plange-kaye\\appdata\\local\\programs\\python\\python311\\lib\\site-packages (from nbconvert->jupyter) (0.2.2)\n",
      "Requirement already satisfied: markupsafe>=2.0 in c:\\users\\plange-kaye\\appdata\\local\\programs\\python\\python311\\lib\\site-packages (from nbconvert->jupyter) (2.1.3)\n",
      "Requirement already satisfied: mistune<3,>=2.0.3 in c:\\users\\plange-kaye\\appdata\\local\\programs\\python\\python311\\lib\\site-packages (from nbconvert->jupyter) (2.0.5)\n",
      "Requirement already satisfied: nbclient>=0.5.0 in c:\\users\\plange-kaye\\appdata\\local\\programs\\python\\python311\\lib\\site-packages (from nbconvert->jupyter) (0.8.0)\n",
      "Requirement already satisfied: nbformat>=5.7 in c:\\users\\plange-kaye\\appdata\\local\\programs\\python\\python311\\lib\\site-packages (from nbconvert->jupyter) (5.9.0)\n",
      "Requirement already satisfied: pandocfilters>=1.4.1 in c:\\users\\plange-kaye\\appdata\\local\\programs\\python\\python311\\lib\\site-packages (from nbconvert->jupyter) (1.5.0)\n",
      "Requirement already satisfied: tinycss2 in c:\\users\\plange-kaye\\appdata\\local\\programs\\python\\python311\\lib\\site-packages (from nbconvert->jupyter) (1.2.1)\n",
      "Requirement already satisfied: jupyter-server<3,>=2.4.0 in c:\\users\\plange-kaye\\appdata\\local\\programs\\python\\python311\\lib\\site-packages (from notebook->jupyter) (2.6.0)\n",
      "Requirement already satisfied: jupyterlab-server<3,>=2.22.1 in c:\\users\\plange-kaye\\appdata\\local\\programs\\python\\python311\\lib\\site-packages (from notebook->jupyter) (2.24.0)\n",
      "Requirement already satisfied: jupyterlab<5,>=4.0.2 in c:\\users\\plange-kaye\\appdata\\local\\programs\\python\\python311\\lib\\site-packages (from notebook->jupyter) (4.0.5)\n",
      "Requirement already satisfied: notebook-shim<0.3,>=0.2 in c:\\users\\plange-kaye\\appdata\\local\\programs\\python\\python311\\lib\\site-packages (from notebook->jupyter) (0.2.3)\n",
      "Requirement already satisfied: qtpy>=2.4.0 in c:\\users\\plange-kaye\\appdata\\local\\programs\\python\\python311\\lib\\site-packages (from qtconsole->jupyter) (2.4.1)\n",
      "Requirement already satisfied: six>=1.9.0 in c:\\users\\plange-kaye\\appdata\\local\\programs\\python\\python311\\lib\\site-packages (from bleach!=5.0.0->nbconvert->jupyter) (1.16.0)\n",
      "Requirement already satisfied: webencodings in c:\\users\\plange-kaye\\appdata\\local\\programs\\python\\python311\\lib\\site-packages (from bleach!=5.0.0->nbconvert->jupyter) (0.5.1)\n",
      "Requirement already satisfied: backcall in c:\\users\\plange-kaye\\appdata\\local\\programs\\python\\python311\\lib\\site-packages (from ipython>=7.23.1->ipykernel->jupyter) (0.2.0)\n",
      "Requirement already satisfied: decorator in c:\\users\\plange-kaye\\appdata\\local\\programs\\python\\python311\\lib\\site-packages (from ipython>=7.23.1->ipykernel->jupyter) (5.1.1)\n",
      "Requirement already satisfied: jedi>=0.16 in c:\\users\\plange-kaye\\appdata\\local\\programs\\python\\python311\\lib\\site-packages (from ipython>=7.23.1->ipykernel->jupyter) (0.18.2)\n",
      "Requirement already satisfied: pickleshare in c:\\users\\plange-kaye\\appdata\\local\\programs\\python\\python311\\lib\\site-packages (from ipython>=7.23.1->ipykernel->jupyter) (0.7.5)\n",
      "Requirement already satisfied: stack-data in c:\\users\\plange-kaye\\appdata\\local\\programs\\python\\python311\\lib\\site-packages (from ipython>=7.23.1->ipykernel->jupyter) (0.6.2)\n",
      "Requirement already satisfied: colorama in c:\\users\\plange-kaye\\appdata\\local\\programs\\python\\python311\\lib\\site-packages (from ipython>=7.23.1->ipykernel->jupyter) (0.4.6)\n",
      "Requirement already satisfied: python-dateutil>=2.8.2 in c:\\users\\plange-kaye\\appdata\\local\\programs\\python\\python311\\lib\\site-packages (from jupyter-client>=6.1.12->ipykernel->jupyter) (2.8.2)\n",
      "Requirement already satisfied: platformdirs>=2.5 in c:\\users\\plange-kaye\\appdata\\local\\programs\\python\\python311\\lib\\site-packages (from jupyter-core!=5.0.*,>=4.12->ipykernel->jupyter) (3.5.3)\n",
      "Requirement already satisfied: pywin32>=300 in c:\\users\\plange-kaye\\appdata\\local\\programs\\python\\python311\\lib\\site-packages (from jupyter-core!=5.0.*,>=4.12->ipykernel->jupyter) (306)\n",
      "Requirement already satisfied: anyio>=3.1.0 in c:\\users\\plange-kaye\\appdata\\local\\programs\\python\\python311\\lib\\site-packages (from jupyter-server<3,>=2.4.0->notebook->jupyter) (3.7.0)\n",
      "Requirement already satisfied: argon2-cffi in c:\\users\\plange-kaye\\appdata\\local\\programs\\python\\python311\\lib\\site-packages (from jupyter-server<3,>=2.4.0->notebook->jupyter) (21.3.0)\n",
      "Requirement already satisfied: jupyter-events>=0.6.0 in c:\\users\\plange-kaye\\appdata\\local\\programs\\python\\python311\\lib\\site-packages (from jupyter-server<3,>=2.4.0->notebook->jupyter) (0.6.3)\n",
      "Requirement already satisfied: jupyter-server-terminals in c:\\users\\plange-kaye\\appdata\\local\\programs\\python\\python311\\lib\\site-packages (from jupyter-server<3,>=2.4.0->notebook->jupyter) (0.4.4)\n",
      "Requirement already satisfied: overrides in c:\\users\\plange-kaye\\appdata\\local\\programs\\python\\python311\\lib\\site-packages (from jupyter-server<3,>=2.4.0->notebook->jupyter) (7.3.1)\n",
      "Requirement already satisfied: prometheus-client in c:\\users\\plange-kaye\\appdata\\local\\programs\\python\\python311\\lib\\site-packages (from jupyter-server<3,>=2.4.0->notebook->jupyter) (0.17.0)\n",
      "Requirement already satisfied: pywinpty in c:\\users\\plange-kaye\\appdata\\local\\programs\\python\\python311\\lib\\site-packages (from jupyter-server<3,>=2.4.0->notebook->jupyter) (2.0.10)\n",
      "Requirement already satisfied: send2trash in c:\\users\\plange-kaye\\appdata\\local\\programs\\python\\python311\\lib\\site-packages (from jupyter-server<3,>=2.4.0->notebook->jupyter) (1.8.2)\n",
      "Requirement already satisfied: terminado>=0.8.3 in c:\\users\\plange-kaye\\appdata\\local\\programs\\python\\python311\\lib\\site-packages (from jupyter-server<3,>=2.4.0->notebook->jupyter) (0.17.1)\n",
      "Requirement already satisfied: websocket-client in c:\\users\\plange-kaye\\appdata\\local\\programs\\python\\python311\\lib\\site-packages (from jupyter-server<3,>=2.4.0->notebook->jupyter) (1.5.3)\n",
      "Requirement already satisfied: async-lru>=1.0.0 in c:\\users\\plange-kaye\\appdata\\local\\programs\\python\\python311\\lib\\site-packages (from jupyterlab<5,>=4.0.2->notebook->jupyter) (2.0.4)\n",
      "Requirement already satisfied: jupyter-lsp>=2.0.0 in c:\\users\\plange-kaye\\appdata\\local\\programs\\python\\python311\\lib\\site-packages (from jupyterlab<5,>=4.0.2->notebook->jupyter) (2.2.0)\n",
      "Requirement already satisfied: babel>=2.10 in c:\\users\\plange-kaye\\appdata\\local\\programs\\python\\python311\\lib\\site-packages (from jupyterlab-server<3,>=2.22.1->notebook->jupyter) (2.12.1)\n",
      "Requirement already satisfied: json5>=0.9.0 in c:\\users\\plange-kaye\\appdata\\local\\programs\\python\\python311\\lib\\site-packages (from jupyterlab-server<3,>=2.22.1->notebook->jupyter) (0.9.14)\n",
      "Requirement already satisfied: jsonschema>=4.17.3 in c:\\users\\plange-kaye\\appdata\\local\\programs\\python\\python311\\lib\\site-packages (from jupyterlab-server<3,>=2.22.1->notebook->jupyter) (4.17.3)\n",
      "Requirement already satisfied: requests>=2.28 in c:\\users\\plange-kaye\\appdata\\local\\programs\\python\\python311\\lib\\site-packages (from jupyterlab-server<3,>=2.22.1->notebook->jupyter) (2.31.0)\n",
      "Requirement already satisfied: fastjsonschema in c:\\users\\plange-kaye\\appdata\\local\\programs\\python\\python311\\lib\\site-packages (from nbformat>=5.7->nbconvert->jupyter) (2.17.1)\n",
      "Requirement already satisfied: wcwidth in c:\\users\\plange-kaye\\appdata\\local\\programs\\python\\python311\\lib\\site-packages (from prompt-toolkit>=3.0.30->jupyter-console->jupyter) (0.2.6)\n",
      "Requirement already satisfied: soupsieve>1.2 in c:\\users\\plange-kaye\\appdata\\local\\programs\\python\\python311\\lib\\site-packages (from beautifulsoup4->nbconvert->jupyter) (2.4.1)\n",
      "Requirement already satisfied: idna>=2.8 in c:\\users\\plange-kaye\\appdata\\local\\programs\\python\\python311\\lib\\site-packages (from anyio>=3.1.0->jupyter-server<3,>=2.4.0->notebook->jupyter) (3.4)\n",
      "Requirement already satisfied: sniffio>=1.1 in c:\\users\\plange-kaye\\appdata\\local\\programs\\python\\python311\\lib\\site-packages (from anyio>=3.1.0->jupyter-server<3,>=2.4.0->notebook->jupyter) (1.3.0)\n",
      "Requirement already satisfied: parso<0.9.0,>=0.8.0 in c:\\users\\plange-kaye\\appdata\\local\\programs\\python\\python311\\lib\\site-packages (from jedi>=0.16->ipython>=7.23.1->ipykernel->jupyter) (0.8.3)\n",
      "Requirement already satisfied: attrs>=17.4.0 in c:\\users\\plange-kaye\\appdata\\local\\programs\\python\\python311\\lib\\site-packages (from jsonschema>=4.17.3->jupyterlab-server<3,>=2.22.1->notebook->jupyter) (23.1.0)\n",
      "Requirement already satisfied: pyrsistent!=0.17.0,!=0.17.1,!=0.17.2,>=0.14.0 in c:\\users\\plange-kaye\\appdata\\local\\programs\\python\\python311\\lib\\site-packages (from jsonschema>=4.17.3->jupyterlab-server<3,>=2.22.1->notebook->jupyter) (0.19.3)\n",
      "Requirement already satisfied: python-json-logger>=2.0.4 in c:\\users\\plange-kaye\\appdata\\local\\programs\\python\\python311\\lib\\site-packages (from jupyter-events>=0.6.0->jupyter-server<3,>=2.4.0->notebook->jupyter) (2.0.7)\n",
      "Requirement already satisfied: pyyaml>=5.3 in c:\\users\\plange-kaye\\appdata\\local\\programs\\python\\python311\\lib\\site-packages (from jupyter-events>=0.6.0->jupyter-server<3,>=2.4.0->notebook->jupyter) (6.0)\n",
      "Requirement already satisfied: rfc3339-validator in c:\\users\\plange-kaye\\appdata\\local\\programs\\python\\python311\\lib\\site-packages (from jupyter-events>=0.6.0->jupyter-server<3,>=2.4.0->notebook->jupyter) (0.1.4)\n",
      "Requirement already satisfied: rfc3986-validator>=0.1.1 in c:\\users\\plange-kaye\\appdata\\local\\programs\\python\\python311\\lib\\site-packages (from jupyter-events>=0.6.0->jupyter-server<3,>=2.4.0->notebook->jupyter) (0.1.1)\n",
      "Requirement already satisfied: charset-normalizer<4,>=2 in c:\\users\\plange-kaye\\appdata\\local\\programs\\python\\python311\\lib\\site-packages (from requests>=2.28->jupyterlab-server<3,>=2.22.1->notebook->jupyter) (3.2.0)\n",
      "Requirement already satisfied: urllib3<3,>=1.21.1 in c:\\users\\plange-kaye\\appdata\\local\\programs\\python\\python311\\lib\\site-packages (from requests>=2.28->jupyterlab-server<3,>=2.22.1->notebook->jupyter) (1.26.16)\n",
      "Requirement already satisfied: certifi>=2017.4.17 in c:\\users\\plange-kaye\\appdata\\local\\programs\\python\\python311\\lib\\site-packages (from requests>=2.28->jupyterlab-server<3,>=2.22.1->notebook->jupyter) (2023.7.22)\n",
      "Requirement already satisfied: argon2-cffi-bindings in c:\\users\\plange-kaye\\appdata\\local\\programs\\python\\python311\\lib\\site-packages (from argon2-cffi->jupyter-server<3,>=2.4.0->notebook->jupyter) (21.2.0)\n",
      "Requirement already satisfied: executing>=1.2.0 in c:\\users\\plange-kaye\\appdata\\local\\programs\\python\\python311\\lib\\site-packages (from stack-data->ipython>=7.23.1->ipykernel->jupyter) (1.2.0)\n",
      "Requirement already satisfied: asttokens>=2.1.0 in c:\\users\\plange-kaye\\appdata\\local\\programs\\python\\python311\\lib\\site-packages (from stack-data->ipython>=7.23.1->ipykernel->jupyter) (2.2.1)\n",
      "Requirement already satisfied: pure-eval in c:\\users\\plange-kaye\\appdata\\local\\programs\\python\\python311\\lib\\site-packages (from stack-data->ipython>=7.23.1->ipykernel->jupyter) (0.2.2)\n",
      "Requirement already satisfied: fqdn in c:\\users\\plange-kaye\\appdata\\local\\programs\\python\\python311\\lib\\site-packages (from jsonschema[format-nongpl]>=3.2.0->jupyter-events>=0.6.0->jupyter-server<3,>=2.4.0->notebook->jupyter) (1.5.1)\n",
      "Requirement already satisfied: isoduration in c:\\users\\plange-kaye\\appdata\\local\\programs\\python\\python311\\lib\\site-packages (from jsonschema[format-nongpl]>=3.2.0->jupyter-events>=0.6.0->jupyter-server<3,>=2.4.0->notebook->jupyter) (20.11.0)\n",
      "Requirement already satisfied: jsonpointer>1.13 in c:\\users\\plange-kaye\\appdata\\local\\programs\\python\\python311\\lib\\site-packages (from jsonschema[format-nongpl]>=3.2.0->jupyter-events>=0.6.0->jupyter-server<3,>=2.4.0->notebook->jupyter) (2.3)\n",
      "Requirement already satisfied: uri-template in c:\\users\\plange-kaye\\appdata\\local\\programs\\python\\python311\\lib\\site-packages (from jsonschema[format-nongpl]>=3.2.0->jupyter-events>=0.6.0->jupyter-server<3,>=2.4.0->notebook->jupyter) (1.2.0)\n",
      "Requirement already satisfied: webcolors>=1.11 in c:\\users\\plange-kaye\\appdata\\local\\programs\\python\\python311\\lib\\site-packages (from jsonschema[format-nongpl]>=3.2.0->jupyter-events>=0.6.0->jupyter-server<3,>=2.4.0->notebook->jupyter) (1.13)\n",
      "Requirement already satisfied: cffi>=1.0.1 in c:\\users\\plange-kaye\\appdata\\local\\programs\\python\\python311\\lib\\site-packages (from argon2-cffi-bindings->argon2-cffi->jupyter-server<3,>=2.4.0->notebook->jupyter) (1.15.1)\n",
      "Requirement already satisfied: pycparser in c:\\users\\plange-kaye\\appdata\\local\\programs\\python\\python311\\lib\\site-packages (from cffi>=1.0.1->argon2-cffi-bindings->argon2-cffi->jupyter-server<3,>=2.4.0->notebook->jupyter) (2.21)\n",
      "Requirement already satisfied: arrow>=0.15.0 in c:\\users\\plange-kaye\\appdata\\local\\programs\\python\\python311\\lib\\site-packages (from isoduration->jsonschema[format-nongpl]>=3.2.0->jupyter-events>=0.6.0->jupyter-server<3,>=2.4.0->notebook->jupyter) (1.2.3)\n"
     ]
    }
   ],
   "source": [
    "# upgrading Jupyter notebook for 'plotly' to work\n",
    "!pip install --upgrade jupyter\n"
   ]
  },
  {
   "cell_type": "code",
   "execution_count": 4,
   "id": "bf0cc34b-f92d-45ce-ab31-b62312c84115",
   "metadata": {},
   "outputs": [],
   "source": [
    "# READ IN DATA"
   ]
  },
  {
   "cell_type": "code",
   "execution_count": 5,
   "id": "3dd2280b-8094-404f-bc0e-3b132a45b3a9",
   "metadata": {},
   "outputs": [],
   "source": [
    "Sales_Dataframe = pd.read_csv('sales data-set.csv')"
   ]
  },
  {
   "cell_type": "code",
   "execution_count": 6,
   "id": "e6441e78-6021-4453-82ed-ee2b81059509",
   "metadata": {},
   "outputs": [],
   "source": [
    "# ANALYZING DATAFRAME"
   ]
  },
  {
   "cell_type": "code",
   "execution_count": 7,
   "id": "435b8dd6-0a05-4ae1-97ed-c0734d5855bc",
   "metadata": {},
   "outputs": [
    {
     "data": {
      "text/html": [
       "<div>\n",
       "<style scoped>\n",
       "    .dataframe tbody tr th:only-of-type {\n",
       "        vertical-align: middle;\n",
       "    }\n",
       "\n",
       "    .dataframe tbody tr th {\n",
       "        vertical-align: top;\n",
       "    }\n",
       "\n",
       "    .dataframe thead th {\n",
       "        text-align: right;\n",
       "    }\n",
       "</style>\n",
       "<table border=\"1\" class=\"dataframe\">\n",
       "  <thead>\n",
       "    <tr style=\"text-align: right;\">\n",
       "      <th></th>\n",
       "      <th>Store</th>\n",
       "      <th>Dept</th>\n",
       "      <th>Date</th>\n",
       "      <th>Weekly_Sales</th>\n",
       "      <th>IsHoliday</th>\n",
       "    </tr>\n",
       "  </thead>\n",
       "  <tbody>\n",
       "    <tr>\n",
       "      <th>0</th>\n",
       "      <td>1</td>\n",
       "      <td>1</td>\n",
       "      <td>05/02/2010</td>\n",
       "      <td>24924.50</td>\n",
       "      <td>False</td>\n",
       "    </tr>\n",
       "    <tr>\n",
       "      <th>1</th>\n",
       "      <td>1</td>\n",
       "      <td>1</td>\n",
       "      <td>12/02/2010</td>\n",
       "      <td>46039.49</td>\n",
       "      <td>True</td>\n",
       "    </tr>\n",
       "    <tr>\n",
       "      <th>2</th>\n",
       "      <td>1</td>\n",
       "      <td>1</td>\n",
       "      <td>19/02/2010</td>\n",
       "      <td>41595.55</td>\n",
       "      <td>False</td>\n",
       "    </tr>\n",
       "    <tr>\n",
       "      <th>3</th>\n",
       "      <td>1</td>\n",
       "      <td>1</td>\n",
       "      <td>26/02/2010</td>\n",
       "      <td>19403.54</td>\n",
       "      <td>False</td>\n",
       "    </tr>\n",
       "    <tr>\n",
       "      <th>4</th>\n",
       "      <td>1</td>\n",
       "      <td>1</td>\n",
       "      <td>05/03/2010</td>\n",
       "      <td>21827.90</td>\n",
       "      <td>False</td>\n",
       "    </tr>\n",
       "  </tbody>\n",
       "</table>\n",
       "</div>"
      ],
      "text/plain": [
       "   Store  Dept        Date  Weekly_Sales  IsHoliday\n",
       "0      1     1  05/02/2010      24924.50      False\n",
       "1      1     1  12/02/2010      46039.49       True\n",
       "2      1     1  19/02/2010      41595.55      False\n",
       "3      1     1  26/02/2010      19403.54      False\n",
       "4      1     1  05/03/2010      21827.90      False"
      ]
     },
     "execution_count": 7,
     "metadata": {},
     "output_type": "execute_result"
    }
   ],
   "source": [
    "# head of dataframe\n",
    "Sales_Dataframe.head()"
   ]
  },
  {
   "cell_type": "code",
   "execution_count": 8,
   "id": "128a7ed2-ecf3-46f2-b3ba-24597cece184",
   "metadata": {},
   "outputs": [
    {
     "data": {
      "text/html": [
       "<div>\n",
       "<style scoped>\n",
       "    .dataframe tbody tr th:only-of-type {\n",
       "        vertical-align: middle;\n",
       "    }\n",
       "\n",
       "    .dataframe tbody tr th {\n",
       "        vertical-align: top;\n",
       "    }\n",
       "\n",
       "    .dataframe thead th {\n",
       "        text-align: right;\n",
       "    }\n",
       "</style>\n",
       "<table border=\"1\" class=\"dataframe\">\n",
       "  <thead>\n",
       "    <tr style=\"text-align: right;\">\n",
       "      <th></th>\n",
       "      <th>Store</th>\n",
       "      <th>Dept</th>\n",
       "      <th>Date</th>\n",
       "      <th>Weekly_Sales</th>\n",
       "      <th>IsHoliday</th>\n",
       "    </tr>\n",
       "  </thead>\n",
       "  <tbody>\n",
       "    <tr>\n",
       "      <th>421565</th>\n",
       "      <td>45</td>\n",
       "      <td>98</td>\n",
       "      <td>28/09/2012</td>\n",
       "      <td>508.37</td>\n",
       "      <td>False</td>\n",
       "    </tr>\n",
       "    <tr>\n",
       "      <th>421566</th>\n",
       "      <td>45</td>\n",
       "      <td>98</td>\n",
       "      <td>05/10/2012</td>\n",
       "      <td>628.10</td>\n",
       "      <td>False</td>\n",
       "    </tr>\n",
       "    <tr>\n",
       "      <th>421567</th>\n",
       "      <td>45</td>\n",
       "      <td>98</td>\n",
       "      <td>12/10/2012</td>\n",
       "      <td>1061.02</td>\n",
       "      <td>False</td>\n",
       "    </tr>\n",
       "    <tr>\n",
       "      <th>421568</th>\n",
       "      <td>45</td>\n",
       "      <td>98</td>\n",
       "      <td>19/10/2012</td>\n",
       "      <td>760.01</td>\n",
       "      <td>False</td>\n",
       "    </tr>\n",
       "    <tr>\n",
       "      <th>421569</th>\n",
       "      <td>45</td>\n",
       "      <td>98</td>\n",
       "      <td>26/10/2012</td>\n",
       "      <td>1076.80</td>\n",
       "      <td>False</td>\n",
       "    </tr>\n",
       "  </tbody>\n",
       "</table>\n",
       "</div>"
      ],
      "text/plain": [
       "        Store  Dept        Date  Weekly_Sales  IsHoliday\n",
       "421565     45    98  28/09/2012        508.37      False\n",
       "421566     45    98  05/10/2012        628.10      False\n",
       "421567     45    98  12/10/2012       1061.02      False\n",
       "421568     45    98  19/10/2012        760.01      False\n",
       "421569     45    98  26/10/2012       1076.80      False"
      ]
     },
     "execution_count": 8,
     "metadata": {},
     "output_type": "execute_result"
    }
   ],
   "source": [
    "# tail of dataframe\n",
    "Sales_Dataframe.tail()"
   ]
  },
  {
   "cell_type": "code",
   "execution_count": 9,
   "id": "93c54942-21e5-4737-8211-5f636a75f50a",
   "metadata": {},
   "outputs": [
    {
     "name": "stdout",
     "output_type": "stream",
     "text": [
      "<class 'pandas.core.frame.DataFrame'>\n",
      "RangeIndex: 421570 entries, 0 to 421569\n",
      "Data columns (total 5 columns):\n",
      " #   Column        Non-Null Count   Dtype  \n",
      "---  ------        --------------   -----  \n",
      " 0   Store         421570 non-null  int64  \n",
      " 1   Dept          421570 non-null  int64  \n",
      " 2   Date          421570 non-null  object \n",
      " 3   Weekly_Sales  421570 non-null  float64\n",
      " 4   IsHoliday     421570 non-null  bool   \n",
      "dtypes: bool(1), float64(1), int64(2), object(1)\n",
      "memory usage: 13.3+ MB\n"
     ]
    }
   ],
   "source": [
    "# information of dataframe\n",
    "Sales_Dataframe.info()"
   ]
  },
  {
   "cell_type": "code",
   "execution_count": 11,
   "id": "7ea22ab3-dd6e-4a5d-8b1a-48777c98120e",
   "metadata": {},
   "outputs": [
    {
     "name": "stdout",
     "output_type": "stream",
     "text": [
      "Store             int64\n",
      "Dept              int64\n",
      "Date             object\n",
      "Weekly_Sales    float64\n",
      "IsHoliday          bool\n",
      "dtype: object\n"
     ]
    }
   ],
   "source": [
    "# check datatypes \n",
    "print(Sales_Dataframe.dtypes)"
   ]
  },
  {
   "cell_type": "code",
   "execution_count": 12,
   "id": "e92bf89b-dfac-4446-95ab-68fc42c729c7",
   "metadata": {},
   "outputs": [
    {
     "data": {
      "text/html": [
       "<div>\n",
       "<style scoped>\n",
       "    .dataframe tbody tr th:only-of-type {\n",
       "        vertical-align: middle;\n",
       "    }\n",
       "\n",
       "    .dataframe tbody tr th {\n",
       "        vertical-align: top;\n",
       "    }\n",
       "\n",
       "    .dataframe thead th {\n",
       "        text-align: right;\n",
       "    }\n",
       "</style>\n",
       "<table border=\"1\" class=\"dataframe\">\n",
       "  <thead>\n",
       "    <tr style=\"text-align: right;\">\n",
       "      <th></th>\n",
       "      <th>Store</th>\n",
       "      <th>Dept</th>\n",
       "      <th>Weekly_Sales</th>\n",
       "    </tr>\n",
       "  </thead>\n",
       "  <tbody>\n",
       "    <tr>\n",
       "      <th>count</th>\n",
       "      <td>421570.000000</td>\n",
       "      <td>421570.000000</td>\n",
       "      <td>421570.000000</td>\n",
       "    </tr>\n",
       "    <tr>\n",
       "      <th>mean</th>\n",
       "      <td>22.200546</td>\n",
       "      <td>44.260317</td>\n",
       "      <td>15981.258123</td>\n",
       "    </tr>\n",
       "    <tr>\n",
       "      <th>std</th>\n",
       "      <td>12.785297</td>\n",
       "      <td>30.492054</td>\n",
       "      <td>22711.183519</td>\n",
       "    </tr>\n",
       "    <tr>\n",
       "      <th>min</th>\n",
       "      <td>1.000000</td>\n",
       "      <td>1.000000</td>\n",
       "      <td>-4988.940000</td>\n",
       "    </tr>\n",
       "    <tr>\n",
       "      <th>25%</th>\n",
       "      <td>11.000000</td>\n",
       "      <td>18.000000</td>\n",
       "      <td>2079.650000</td>\n",
       "    </tr>\n",
       "    <tr>\n",
       "      <th>50%</th>\n",
       "      <td>22.000000</td>\n",
       "      <td>37.000000</td>\n",
       "      <td>7612.030000</td>\n",
       "    </tr>\n",
       "    <tr>\n",
       "      <th>75%</th>\n",
       "      <td>33.000000</td>\n",
       "      <td>74.000000</td>\n",
       "      <td>20205.852500</td>\n",
       "    </tr>\n",
       "    <tr>\n",
       "      <th>max</th>\n",
       "      <td>45.000000</td>\n",
       "      <td>99.000000</td>\n",
       "      <td>693099.360000</td>\n",
       "    </tr>\n",
       "  </tbody>\n",
       "</table>\n",
       "</div>"
      ],
      "text/plain": [
       "               Store           Dept   Weekly_Sales\n",
       "count  421570.000000  421570.000000  421570.000000\n",
       "mean       22.200546      44.260317   15981.258123\n",
       "std        12.785297      30.492054   22711.183519\n",
       "min         1.000000       1.000000   -4988.940000\n",
       "25%        11.000000      18.000000    2079.650000\n",
       "50%        22.000000      37.000000    7612.030000\n",
       "75%        33.000000      74.000000   20205.852500\n",
       "max        45.000000      99.000000  693099.360000"
      ]
     },
     "execution_count": 12,
     "metadata": {},
     "output_type": "execute_result"
    }
   ],
   "source": [
    "# statistically summary of dataframe\n",
    "Sales_Dataframe.describe()"
   ]
  },
  {
   "cell_type": "code",
   "execution_count": 13,
   "id": "2d1adedc-0aef-4be9-86df-ad7817b5946a",
   "metadata": {},
   "outputs": [],
   "source": [
    "# CLEANING DATAFRAME"
   ]
  },
  {
   "cell_type": "code",
   "execution_count": 14,
   "id": "56953030-9079-4c1c-b51f-a46ab6cf59a5",
   "metadata": {},
   "outputs": [
    {
     "data": {
      "text/html": [
       "<div>\n",
       "<style scoped>\n",
       "    .dataframe tbody tr th:only-of-type {\n",
       "        vertical-align: middle;\n",
       "    }\n",
       "\n",
       "    .dataframe tbody tr th {\n",
       "        vertical-align: top;\n",
       "    }\n",
       "\n",
       "    .dataframe thead th {\n",
       "        text-align: right;\n",
       "    }\n",
       "</style>\n",
       "<table border=\"1\" class=\"dataframe\">\n",
       "  <thead>\n",
       "    <tr style=\"text-align: right;\">\n",
       "      <th></th>\n",
       "      <th>Store</th>\n",
       "      <th>Dept</th>\n",
       "      <th>Date</th>\n",
       "      <th>Weekly_Sales</th>\n",
       "      <th>IsHoliday</th>\n",
       "    </tr>\n",
       "  </thead>\n",
       "  <tbody>\n",
       "    <tr>\n",
       "      <th>0</th>\n",
       "      <td>False</td>\n",
       "      <td>False</td>\n",
       "      <td>False</td>\n",
       "      <td>False</td>\n",
       "      <td>False</td>\n",
       "    </tr>\n",
       "    <tr>\n",
       "      <th>1</th>\n",
       "      <td>False</td>\n",
       "      <td>False</td>\n",
       "      <td>False</td>\n",
       "      <td>False</td>\n",
       "      <td>False</td>\n",
       "    </tr>\n",
       "    <tr>\n",
       "      <th>2</th>\n",
       "      <td>False</td>\n",
       "      <td>False</td>\n",
       "      <td>False</td>\n",
       "      <td>False</td>\n",
       "      <td>False</td>\n",
       "    </tr>\n",
       "    <tr>\n",
       "      <th>3</th>\n",
       "      <td>False</td>\n",
       "      <td>False</td>\n",
       "      <td>False</td>\n",
       "      <td>False</td>\n",
       "      <td>False</td>\n",
       "    </tr>\n",
       "    <tr>\n",
       "      <th>4</th>\n",
       "      <td>False</td>\n",
       "      <td>False</td>\n",
       "      <td>False</td>\n",
       "      <td>False</td>\n",
       "      <td>False</td>\n",
       "    </tr>\n",
       "    <tr>\n",
       "      <th>...</th>\n",
       "      <td>...</td>\n",
       "      <td>...</td>\n",
       "      <td>...</td>\n",
       "      <td>...</td>\n",
       "      <td>...</td>\n",
       "    </tr>\n",
       "    <tr>\n",
       "      <th>421565</th>\n",
       "      <td>False</td>\n",
       "      <td>False</td>\n",
       "      <td>False</td>\n",
       "      <td>False</td>\n",
       "      <td>False</td>\n",
       "    </tr>\n",
       "    <tr>\n",
       "      <th>421566</th>\n",
       "      <td>False</td>\n",
       "      <td>False</td>\n",
       "      <td>False</td>\n",
       "      <td>False</td>\n",
       "      <td>False</td>\n",
       "    </tr>\n",
       "    <tr>\n",
       "      <th>421567</th>\n",
       "      <td>False</td>\n",
       "      <td>False</td>\n",
       "      <td>False</td>\n",
       "      <td>False</td>\n",
       "      <td>False</td>\n",
       "    </tr>\n",
       "    <tr>\n",
       "      <th>421568</th>\n",
       "      <td>False</td>\n",
       "      <td>False</td>\n",
       "      <td>False</td>\n",
       "      <td>False</td>\n",
       "      <td>False</td>\n",
       "    </tr>\n",
       "    <tr>\n",
       "      <th>421569</th>\n",
       "      <td>False</td>\n",
       "      <td>False</td>\n",
       "      <td>False</td>\n",
       "      <td>False</td>\n",
       "      <td>False</td>\n",
       "    </tr>\n",
       "  </tbody>\n",
       "</table>\n",
       "<p>421570 rows × 5 columns</p>\n",
       "</div>"
      ],
      "text/plain": [
       "        Store   Dept   Date  Weekly_Sales  IsHoliday\n",
       "0       False  False  False         False      False\n",
       "1       False  False  False         False      False\n",
       "2       False  False  False         False      False\n",
       "3       False  False  False         False      False\n",
       "4       False  False  False         False      False\n",
       "...       ...    ...    ...           ...        ...\n",
       "421565  False  False  False         False      False\n",
       "421566  False  False  False         False      False\n",
       "421567  False  False  False         False      False\n",
       "421568  False  False  False         False      False\n",
       "421569  False  False  False         False      False\n",
       "\n",
       "[421570 rows x 5 columns]"
      ]
     },
     "execution_count": 14,
     "metadata": {},
     "output_type": "execute_result"
    }
   ],
   "source": [
    "# checking empty cells/rows\n",
    "Sales_Dataframe.isna()"
   ]
  },
  {
   "cell_type": "code",
   "execution_count": 15,
   "id": "f3feb82d-b1b9-4f90-9be6-b541ca90b800",
   "metadata": {},
   "outputs": [
    {
     "data": {
      "text/plain": [
       "Store           False\n",
       "Dept            False\n",
       "Date            False\n",
       "Weekly_Sales    False\n",
       "IsHoliday       False\n",
       "dtype: bool"
      ]
     },
     "execution_count": 15,
     "metadata": {},
     "output_type": "execute_result"
    }
   ],
   "source": [
    "# checking empty or null_values in columns\n",
    "Sales_Dataframe.isna().any()"
   ]
  },
  {
   "cell_type": "code",
   "execution_count": 16,
   "id": "3a4728b7-b626-4fab-a8f3-54d535122480",
   "metadata": {},
   "outputs": [
    {
     "data": {
      "text/plain": [
       "0         False\n",
       "1         False\n",
       "2         False\n",
       "3         False\n",
       "4         False\n",
       "          ...  \n",
       "421565    False\n",
       "421566    False\n",
       "421567    False\n",
       "421568    False\n",
       "421569    False\n",
       "Length: 421570, dtype: bool"
      ]
     },
     "execution_count": 16,
     "metadata": {},
     "output_type": "execute_result"
    }
   ],
   "source": [
    "# checking duplicates in rows/cells\n",
    "Sales_Dataframe.duplicated()"
   ]
  },
  {
   "cell_type": "code",
   "execution_count": 17,
   "id": "5dd9ebe2-779c-4b15-bed5-515835e13587",
   "metadata": {},
   "outputs": [
    {
     "data": {
      "text/plain": [
       "False"
      ]
     },
     "execution_count": 17,
     "metadata": {},
     "output_type": "execute_result"
    }
   ],
   "source": [
    "# checking duplicates in columns\n",
    "Sales_Dataframe.duplicated().any()"
   ]
  },
  {
   "cell_type": "code",
   "execution_count": 18,
   "id": "e40d87c3-426d-4315-8342-aaaa3cb32b92",
   "metadata": {},
   "outputs": [],
   "source": [
    "# renaming needed columns in dataframe\n",
    "Sales_Dataframe.rename({'Date':'ds','Weekly_Sales':'y'},axis=1,inplace=True)"
   ]
  },
  {
   "cell_type": "code",
   "execution_count": 19,
   "id": "44f8875b-5e04-49ac-9ab5-66f93b03154c",
   "metadata": {},
   "outputs": [
    {
     "data": {
      "text/plain": [
       "Index(['Store', 'Dept', 'ds', 'y', 'IsHoliday'], dtype='object')"
      ]
     },
     "execution_count": 19,
     "metadata": {},
     "output_type": "execute_result"
    }
   ],
   "source": [
    "# check columns in dataframe\n",
    "Sales_Dataframe.columns"
   ]
  },
  {
   "cell_type": "code",
   "execution_count": 22,
   "id": "b6b389b5-6bd4-4e89-b087-0092754a02ca",
   "metadata": {},
   "outputs": [],
   "source": [
    "# cleaning wrong format\n",
    "\n",
    "Sales_Dataframe['ds'] = pd.to_datetime(Sales_Dataframe['ds'], format=\"%d/%m/%Y\") # convert to date(datatype)/ format"
   ]
  },
  {
   "cell_type": "code",
   "execution_count": 23,
   "id": "02715c46-b745-47b3-a381-6f10a1cd54b4",
   "metadata": {},
   "outputs": [
    {
     "name": "stdout",
     "output_type": "stream",
     "text": [
      "Store                 int64\n",
      "Dept                  int64\n",
      "ds           datetime64[ns]\n",
      "y                   float64\n",
      "IsHoliday              bool\n",
      "dtype: object\n"
     ]
    }
   ],
   "source": [
    "# recheck datatypes\n",
    "print(Sales_Dataframe.dtypes)"
   ]
  },
  {
   "cell_type": "code",
   "execution_count": 24,
   "id": "ea0aaf18-fe9b-444b-a2ae-e86d0d98875a",
   "metadata": {},
   "outputs": [],
   "source": [
    "# TRAIN MODEL USING 'PROPHET'  FOR FORECASTING "
   ]
  },
  {
   "cell_type": "code",
   "execution_count": 25,
   "id": "d7bf51e4-41e7-44a7-bcca-df75167368d4",
   "metadata": {},
   "outputs": [],
   "source": [
    "m = Prophet(interval_width=0.5,daily_seasonality=True)"
   ]
  },
  {
   "cell_type": "code",
   "execution_count": 26,
   "id": "c990c59b-837f-469b-b3fc-4010852e7638",
   "metadata": {},
   "outputs": [],
   "source": [
    "# FIT MODEL"
   ]
  },
  {
   "cell_type": "code",
   "execution_count": 27,
   "id": "d1e63596-460f-4e76-b204-6a4b95d44ff2",
   "metadata": {},
   "outputs": [
    {
     "name": "stderr",
     "output_type": "stream",
     "text": [
      "19:26:04 - cmdstanpy - INFO - Chain [1] start processing\n",
      "19:26:36 - cmdstanpy - INFO - Chain [1] done processing\n"
     ]
    },
    {
     "data": {
      "text/plain": [
       "<prophet.forecaster.Prophet at 0x2948f663b90>"
      ]
     },
     "execution_count": 27,
     "metadata": {},
     "output_type": "execute_result"
    }
   ],
   "source": [
    "m.fit(Sales_Dataframe)"
   ]
  },
  {
   "cell_type": "code",
   "execution_count": 28,
   "id": "3ad12014-6b84-4912-8202-b6da21197b54",
   "metadata": {},
   "outputs": [],
   "source": [
    "# FORECASTING AWAY"
   ]
  },
  {
   "cell_type": "code",
   "execution_count": 30,
   "id": "b800bfb9-06bd-4cc7-87ca-61a78c0537e6",
   "metadata": {},
   "outputs": [],
   "source": [
    "future = m.make_future_dataframe(periods=360,freq='D')"
   ]
  },
  {
   "cell_type": "code",
   "execution_count": 31,
   "id": "421e912a-7fc8-4a83-9dc3-25ce6dde5645",
   "metadata": {},
   "outputs": [],
   "source": [
    "# PREDICT 'future'"
   ]
  },
  {
   "cell_type": "code",
   "execution_count": 32,
   "id": "8c9ff4a4-7fdd-405a-93db-d60347b67378",
   "metadata": {},
   "outputs": [],
   "source": [
    "forecast = m.predict(future)"
   ]
  },
  {
   "cell_type": "code",
   "execution_count": 33,
   "id": "710e985b-02b2-4928-8d0e-8f758cca1ef1",
   "metadata": {},
   "outputs": [
    {
     "data": {
      "text/html": [
       "<div>\n",
       "<style scoped>\n",
       "    .dataframe tbody tr th:only-of-type {\n",
       "        vertical-align: middle;\n",
       "    }\n",
       "\n",
       "    .dataframe tbody tr th {\n",
       "        vertical-align: top;\n",
       "    }\n",
       "\n",
       "    .dataframe thead th {\n",
       "        text-align: right;\n",
       "    }\n",
       "</style>\n",
       "<table border=\"1\" class=\"dataframe\">\n",
       "  <thead>\n",
       "    <tr style=\"text-align: right;\">\n",
       "      <th></th>\n",
       "      <th>ds</th>\n",
       "      <th>trend</th>\n",
       "      <th>yhat_lower</th>\n",
       "      <th>yhat_upper</th>\n",
       "      <th>trend_lower</th>\n",
       "      <th>trend_upper</th>\n",
       "      <th>additive_terms</th>\n",
       "      <th>additive_terms_lower</th>\n",
       "      <th>additive_terms_upper</th>\n",
       "      <th>daily</th>\n",
       "      <th>daily_lower</th>\n",
       "      <th>daily_upper</th>\n",
       "      <th>yearly</th>\n",
       "      <th>yearly_lower</th>\n",
       "      <th>yearly_upper</th>\n",
       "      <th>multiplicative_terms</th>\n",
       "      <th>multiplicative_terms_lower</th>\n",
       "      <th>multiplicative_terms_upper</th>\n",
       "      <th>yhat</th>\n",
       "    </tr>\n",
       "  </thead>\n",
       "  <tbody>\n",
       "    <tr>\n",
       "      <th>0</th>\n",
       "      <td>2010-02-05</td>\n",
       "      <td>23187.985638</td>\n",
       "      <td>835.291753</td>\n",
       "      <td>30632.648738</td>\n",
       "      <td>23187.985638</td>\n",
       "      <td>23187.985638</td>\n",
       "      <td>-6757.342338</td>\n",
       "      <td>-6757.342338</td>\n",
       "      <td>-6757.342338</td>\n",
       "      <td>-6946.019994</td>\n",
       "      <td>-6946.019994</td>\n",
       "      <td>-6946.019994</td>\n",
       "      <td>188.677656</td>\n",
       "      <td>188.677656</td>\n",
       "      <td>188.677656</td>\n",
       "      <td>0.0</td>\n",
       "      <td>0.0</td>\n",
       "      <td>0.0</td>\n",
       "      <td>16430.643300</td>\n",
       "    </tr>\n",
       "    <tr>\n",
       "      <th>1</th>\n",
       "      <td>2010-02-12</td>\n",
       "      <td>23132.238974</td>\n",
       "      <td>2198.895910</td>\n",
       "      <td>31727.403015</td>\n",
       "      <td>23132.238974</td>\n",
       "      <td>23132.238974</td>\n",
       "      <td>-6565.679812</td>\n",
       "      <td>-6565.679812</td>\n",
       "      <td>-6565.679812</td>\n",
       "      <td>-6946.019994</td>\n",
       "      <td>-6946.019994</td>\n",
       "      <td>-6946.019994</td>\n",
       "      <td>380.340182</td>\n",
       "      <td>380.340182</td>\n",
       "      <td>380.340182</td>\n",
       "      <td>0.0</td>\n",
       "      <td>0.0</td>\n",
       "      <td>0.0</td>\n",
       "      <td>16566.559161</td>\n",
       "    </tr>\n",
       "    <tr>\n",
       "      <th>2</th>\n",
       "      <td>2010-02-19</td>\n",
       "      <td>23076.492309</td>\n",
       "      <td>685.718063</td>\n",
       "      <td>31031.286724</td>\n",
       "      <td>23076.492309</td>\n",
       "      <td>23076.492309</td>\n",
       "      <td>-7022.860848</td>\n",
       "      <td>-7022.860848</td>\n",
       "      <td>-7022.860848</td>\n",
       "      <td>-6946.019994</td>\n",
       "      <td>-6946.019994</td>\n",
       "      <td>-6946.019994</td>\n",
       "      <td>-76.840854</td>\n",
       "      <td>-76.840854</td>\n",
       "      <td>-76.840854</td>\n",
       "      <td>0.0</td>\n",
       "      <td>0.0</td>\n",
       "      <td>0.0</td>\n",
       "      <td>16053.631461</td>\n",
       "    </tr>\n",
       "    <tr>\n",
       "      <th>3</th>\n",
       "      <td>2010-02-26</td>\n",
       "      <td>23020.745644</td>\n",
       "      <td>1702.666590</td>\n",
       "      <td>31500.212548</td>\n",
       "      <td>23020.745644</td>\n",
       "      <td>23020.745644</td>\n",
       "      <td>-7386.467385</td>\n",
       "      <td>-7386.467385</td>\n",
       "      <td>-7386.467385</td>\n",
       "      <td>-6946.019994</td>\n",
       "      <td>-6946.019994</td>\n",
       "      <td>-6946.019994</td>\n",
       "      <td>-440.447391</td>\n",
       "      <td>-440.447391</td>\n",
       "      <td>-440.447391</td>\n",
       "      <td>0.0</td>\n",
       "      <td>0.0</td>\n",
       "      <td>0.0</td>\n",
       "      <td>15634.278259</td>\n",
       "    </tr>\n",
       "    <tr>\n",
       "      <th>4</th>\n",
       "      <td>2010-03-05</td>\n",
       "      <td>22964.998979</td>\n",
       "      <td>-2222.788931</td>\n",
       "      <td>30806.176844</td>\n",
       "      <td>22964.998979</td>\n",
       "      <td>22964.998979</td>\n",
       "      <td>-7428.473124</td>\n",
       "      <td>-7428.473124</td>\n",
       "      <td>-7428.473124</td>\n",
       "      <td>-6946.019994</td>\n",
       "      <td>-6946.019994</td>\n",
       "      <td>-6946.019994</td>\n",
       "      <td>-482.453130</td>\n",
       "      <td>-482.453130</td>\n",
       "      <td>-482.453130</td>\n",
       "      <td>0.0</td>\n",
       "      <td>0.0</td>\n",
       "      <td>0.0</td>\n",
       "      <td>15536.525855</td>\n",
       "    </tr>\n",
       "  </tbody>\n",
       "</table>\n",
       "</div>"
      ],
      "text/plain": [
       "          ds         trend   yhat_lower    yhat_upper   trend_lower  \\\n",
       "0 2010-02-05  23187.985638   835.291753  30632.648738  23187.985638   \n",
       "1 2010-02-12  23132.238974  2198.895910  31727.403015  23132.238974   \n",
       "2 2010-02-19  23076.492309   685.718063  31031.286724  23076.492309   \n",
       "3 2010-02-26  23020.745644  1702.666590  31500.212548  23020.745644   \n",
       "4 2010-03-05  22964.998979 -2222.788931  30806.176844  22964.998979   \n",
       "\n",
       "    trend_upper  additive_terms  additive_terms_lower  additive_terms_upper  \\\n",
       "0  23187.985638    -6757.342338          -6757.342338          -6757.342338   \n",
       "1  23132.238974    -6565.679812          -6565.679812          -6565.679812   \n",
       "2  23076.492309    -7022.860848          -7022.860848          -7022.860848   \n",
       "3  23020.745644    -7386.467385          -7386.467385          -7386.467385   \n",
       "4  22964.998979    -7428.473124          -7428.473124          -7428.473124   \n",
       "\n",
       "         daily  daily_lower  daily_upper      yearly  yearly_lower  \\\n",
       "0 -6946.019994 -6946.019994 -6946.019994  188.677656    188.677656   \n",
       "1 -6946.019994 -6946.019994 -6946.019994  380.340182    380.340182   \n",
       "2 -6946.019994 -6946.019994 -6946.019994  -76.840854    -76.840854   \n",
       "3 -6946.019994 -6946.019994 -6946.019994 -440.447391   -440.447391   \n",
       "4 -6946.019994 -6946.019994 -6946.019994 -482.453130   -482.453130   \n",
       "\n",
       "   yearly_upper  multiplicative_terms  multiplicative_terms_lower  \\\n",
       "0    188.677656                   0.0                         0.0   \n",
       "1    380.340182                   0.0                         0.0   \n",
       "2    -76.840854                   0.0                         0.0   \n",
       "3   -440.447391                   0.0                         0.0   \n",
       "4   -482.453130                   0.0                         0.0   \n",
       "\n",
       "   multiplicative_terms_upper          yhat  \n",
       "0                         0.0  16430.643300  \n",
       "1                         0.0  16566.559161  \n",
       "2                         0.0  16053.631461  \n",
       "3                         0.0  15634.278259  \n",
       "4                         0.0  15536.525855  "
      ]
     },
     "execution_count": 33,
     "metadata": {},
     "output_type": "execute_result"
    }
   ],
   "source": [
    "# PRINT HEAD OF 'forecast'\n",
    "forecast.head()"
   ]
  },
  {
   "cell_type": "code",
   "execution_count": 34,
   "id": "97a8231d-7322-4383-a7ed-71ade1fdd389",
   "metadata": {},
   "outputs": [],
   "source": [
    "# PRINT TAIL OF 'forecast'"
   ]
  },
  {
   "cell_type": "code",
   "execution_count": 35,
   "id": "16742320-43ed-4f38-83b3-685e0b140495",
   "metadata": {},
   "outputs": [
    {
     "data": {
      "text/html": [
       "<div>\n",
       "<style scoped>\n",
       "    .dataframe tbody tr th:only-of-type {\n",
       "        vertical-align: middle;\n",
       "    }\n",
       "\n",
       "    .dataframe tbody tr th {\n",
       "        vertical-align: top;\n",
       "    }\n",
       "\n",
       "    .dataframe thead th {\n",
       "        text-align: right;\n",
       "    }\n",
       "</style>\n",
       "<table border=\"1\" class=\"dataframe\">\n",
       "  <thead>\n",
       "    <tr style=\"text-align: right;\">\n",
       "      <th></th>\n",
       "      <th>ds</th>\n",
       "      <th>trend</th>\n",
       "      <th>yhat_lower</th>\n",
       "      <th>yhat_upper</th>\n",
       "      <th>trend_lower</th>\n",
       "      <th>trend_upper</th>\n",
       "      <th>additive_terms</th>\n",
       "      <th>additive_terms_lower</th>\n",
       "      <th>additive_terms_upper</th>\n",
       "      <th>daily</th>\n",
       "      <th>daily_lower</th>\n",
       "      <th>daily_upper</th>\n",
       "      <th>yearly</th>\n",
       "      <th>yearly_lower</th>\n",
       "      <th>yearly_upper</th>\n",
       "      <th>multiplicative_terms</th>\n",
       "      <th>multiplicative_terms_lower</th>\n",
       "      <th>multiplicative_terms_upper</th>\n",
       "      <th>yhat</th>\n",
       "    </tr>\n",
       "  </thead>\n",
       "  <tbody>\n",
       "    <tr>\n",
       "      <th>498</th>\n",
       "      <td>2013-10-17</td>\n",
       "      <td>23962.462326</td>\n",
       "      <td>2219.835310</td>\n",
       "      <td>32197.307697</td>\n",
       "      <td>22774.717515</td>\n",
       "      <td>24933.101826</td>\n",
       "      <td>-7898.263322</td>\n",
       "      <td>-7898.263322</td>\n",
       "      <td>-7898.263322</td>\n",
       "      <td>-6946.019994</td>\n",
       "      <td>-6946.019994</td>\n",
       "      <td>-6946.019994</td>\n",
       "      <td>-952.243328</td>\n",
       "      <td>-952.243328</td>\n",
       "      <td>-952.243328</td>\n",
       "      <td>0.0</td>\n",
       "      <td>0.0</td>\n",
       "      <td>0.0</td>\n",
       "      <td>16064.199004</td>\n",
       "    </tr>\n",
       "    <tr>\n",
       "      <th>499</th>\n",
       "      <td>2013-10-18</td>\n",
       "      <td>23964.142376</td>\n",
       "      <td>2193.685669</td>\n",
       "      <td>31569.885858</td>\n",
       "      <td>22775.076884</td>\n",
       "      <td>24943.072851</td>\n",
       "      <td>-7941.541857</td>\n",
       "      <td>-7941.541857</td>\n",
       "      <td>-7941.541857</td>\n",
       "      <td>-6946.019994</td>\n",
       "      <td>-6946.019994</td>\n",
       "      <td>-6946.019994</td>\n",
       "      <td>-995.521862</td>\n",
       "      <td>-995.521862</td>\n",
       "      <td>-995.521862</td>\n",
       "      <td>0.0</td>\n",
       "      <td>0.0</td>\n",
       "      <td>0.0</td>\n",
       "      <td>16022.600519</td>\n",
       "    </tr>\n",
       "    <tr>\n",
       "      <th>500</th>\n",
       "      <td>2013-10-19</td>\n",
       "      <td>23965.822425</td>\n",
       "      <td>1111.507954</td>\n",
       "      <td>30840.874857</td>\n",
       "      <td>22775.272525</td>\n",
       "      <td>24953.043877</td>\n",
       "      <td>-7983.424877</td>\n",
       "      <td>-7983.424877</td>\n",
       "      <td>-7983.424877</td>\n",
       "      <td>-6946.019994</td>\n",
       "      <td>-6946.019994</td>\n",
       "      <td>-6946.019994</td>\n",
       "      <td>-1037.404883</td>\n",
       "      <td>-1037.404883</td>\n",
       "      <td>-1037.404883</td>\n",
       "      <td>0.0</td>\n",
       "      <td>0.0</td>\n",
       "      <td>0.0</td>\n",
       "      <td>15982.397548</td>\n",
       "    </tr>\n",
       "    <tr>\n",
       "      <th>501</th>\n",
       "      <td>2013-10-20</td>\n",
       "      <td>23967.502475</td>\n",
       "      <td>-1270.543218</td>\n",
       "      <td>30771.078174</td>\n",
       "      <td>22775.068879</td>\n",
       "      <td>24961.584674</td>\n",
       "      <td>-8021.801241</td>\n",
       "      <td>-8021.801241</td>\n",
       "      <td>-8021.801241</td>\n",
       "      <td>-6946.019994</td>\n",
       "      <td>-6946.019994</td>\n",
       "      <td>-6946.019994</td>\n",
       "      <td>-1075.781246</td>\n",
       "      <td>-1075.781246</td>\n",
       "      <td>-1075.781246</td>\n",
       "      <td>0.0</td>\n",
       "      <td>0.0</td>\n",
       "      <td>0.0</td>\n",
       "      <td>15945.701234</td>\n",
       "    </tr>\n",
       "    <tr>\n",
       "      <th>502</th>\n",
       "      <td>2013-10-21</td>\n",
       "      <td>23969.182524</td>\n",
       "      <td>1080.070666</td>\n",
       "      <td>28138.305627</td>\n",
       "      <td>22771.278832</td>\n",
       "      <td>24968.769277</td>\n",
       "      <td>-8054.599658</td>\n",
       "      <td>-8054.599658</td>\n",
       "      <td>-8054.599658</td>\n",
       "      <td>-6946.019994</td>\n",
       "      <td>-6946.019994</td>\n",
       "      <td>-6946.019994</td>\n",
       "      <td>-1108.579664</td>\n",
       "      <td>-1108.579664</td>\n",
       "      <td>-1108.579664</td>\n",
       "      <td>0.0</td>\n",
       "      <td>0.0</td>\n",
       "      <td>0.0</td>\n",
       "      <td>15914.582866</td>\n",
       "    </tr>\n",
       "  </tbody>\n",
       "</table>\n",
       "</div>"
      ],
      "text/plain": [
       "            ds         trend   yhat_lower    yhat_upper   trend_lower  \\\n",
       "498 2013-10-17  23962.462326  2219.835310  32197.307697  22774.717515   \n",
       "499 2013-10-18  23964.142376  2193.685669  31569.885858  22775.076884   \n",
       "500 2013-10-19  23965.822425  1111.507954  30840.874857  22775.272525   \n",
       "501 2013-10-20  23967.502475 -1270.543218  30771.078174  22775.068879   \n",
       "502 2013-10-21  23969.182524  1080.070666  28138.305627  22771.278832   \n",
       "\n",
       "      trend_upper  additive_terms  additive_terms_lower  additive_terms_upper  \\\n",
       "498  24933.101826    -7898.263322          -7898.263322          -7898.263322   \n",
       "499  24943.072851    -7941.541857          -7941.541857          -7941.541857   \n",
       "500  24953.043877    -7983.424877          -7983.424877          -7983.424877   \n",
       "501  24961.584674    -8021.801241          -8021.801241          -8021.801241   \n",
       "502  24968.769277    -8054.599658          -8054.599658          -8054.599658   \n",
       "\n",
       "           daily  daily_lower  daily_upper       yearly  yearly_lower  \\\n",
       "498 -6946.019994 -6946.019994 -6946.019994  -952.243328   -952.243328   \n",
       "499 -6946.019994 -6946.019994 -6946.019994  -995.521862   -995.521862   \n",
       "500 -6946.019994 -6946.019994 -6946.019994 -1037.404883  -1037.404883   \n",
       "501 -6946.019994 -6946.019994 -6946.019994 -1075.781246  -1075.781246   \n",
       "502 -6946.019994 -6946.019994 -6946.019994 -1108.579664  -1108.579664   \n",
       "\n",
       "     yearly_upper  multiplicative_terms  multiplicative_terms_lower  \\\n",
       "498   -952.243328                   0.0                         0.0   \n",
       "499   -995.521862                   0.0                         0.0   \n",
       "500  -1037.404883                   0.0                         0.0   \n",
       "501  -1075.781246                   0.0                         0.0   \n",
       "502  -1108.579664                   0.0                         0.0   \n",
       "\n",
       "     multiplicative_terms_upper          yhat  \n",
       "498                         0.0  16064.199004  \n",
       "499                         0.0  16022.600519  \n",
       "500                         0.0  15982.397548  \n",
       "501                         0.0  15945.701234  \n",
       "502                         0.0  15914.582866  "
      ]
     },
     "execution_count": 35,
     "metadata": {},
     "output_type": "execute_result"
    }
   ],
   "source": [
    "forecast.tail()"
   ]
  },
  {
   "cell_type": "code",
   "execution_count": 36,
   "id": "a7283662-c001-482d-8f3a-274911124e54",
   "metadata": {},
   "outputs": [],
   "source": [
    "# PLOT 'forecast'"
   ]
  },
  {
   "cell_type": "code",
   "execution_count": 37,
   "id": "5d0a687d-3f8d-4bf7-8aea-680d161ee278",
   "metadata": {},
   "outputs": [
    {
     "data": {
      "image/png": "[encoded data removed]",
      "text/plain": [
       "<Figure size 1000x600 with 1 Axes>"
      ]
     },
     "metadata": {},
     "output_type": "display_data"
    }
   ],
   "source": [
    "First_Plot = m.plot(forecast)"
   ]
  },
  {
   "cell_type": "code",
   "execution_count": 38,
   "id": "40d79f40-6b11-465f-9b4d-d45634cfbb66",
   "metadata": {},
   "outputs": [
    {
     "data": {
      "image/png": "[encoded data removed]",
      "text/plain": [
       "<Figure size 900x900 with 3 Axes>"
      ]
     },
     "metadata": {},
     "output_type": "display_data"
    }
   ],
   "source": [
    "Second_Plot = m.plot_components(forecast)"
   ]
  },
  {
   "cell_type": "code",
   "execution_count": null,
   "id": "b2a7add0-bd8f-4a60-b56b-e4984cf45168",
   "metadata": {},
   "outputs": [],
   "source": []
  },
  {
   "cell_type": "code",
   "execution_count": null,
   "id": "156c2afb-8273-42b9-a60c-993cfb8cbec5",
   "metadata": {},
   "outputs": [],
   "source": []
  }
 ],
 "metadata": {
  "kernelspec": {
   "display_name": "Python 3 (ipykernel)",
   "language": "python",
   "name": "python3"
  },
  "language_info": {
   "codemirror_mode": {
    "name": "ipython",
    "version": 3
   },
   "file_extension": ".py",
   "mimetype": "text/x-python",
   "name": "python",
   "nbconvert_exporter": "python",
   "pygments_lexer": "ipython3",
   "version": "3.11.4"
  }
 },
 "nbformat": 4,
 "nbformat_minor": 5
}
